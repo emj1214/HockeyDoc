{
 "cells": [
  {
   "cell_type": "code",
   "execution_count": 1,
   "metadata": {},
   "outputs": [
    {
     "name": "stdout",
     "output_type": "stream",
     "text": [
      "pygame 2.1.2 (SDL 2.0.18, Python 3.10.2)\n",
      "Hello from the pygame community. https://www.pygame.org/contribute.html\n",
      "(519, 298)\n",
      "     Position\n",
      "0  (519, 298)\n",
      "(537, 210)\n",
      "     Position\n",
      "0  (519, 298)\n",
      "1  (537, 210)\n",
      "(394, 215)\n",
      "     Position\n",
      "0  (519, 298)\n",
      "1  (537, 210)\n",
      "2  (394, 215)\n"
     ]
    },
    {
     "ename": "",
     "evalue": "",
     "output_type": "error",
     "traceback": [
      "\u001b[1;31mThe Kernel crashed while executing code in the the current cell or a previous cell. Please review the code in the cell(s) to identify a possible cause of the failure. Click <a href='https://aka.ms/vscodeJupyterKernelCrash'>here</a> for more info. View Jupyter <a href='command:jupyter.viewOutput'>log</a> for further details."
     ]
    }
   ],
   "source": [
    "import pygame as pg\n",
    "import pandas as pd\n",
    "\n",
    "pg.init() # start game\n",
    "dimensions = (850, 750)\n",
    "clock = pg.time.Clock()\n",
    "screen = pg.display.set_mode((0, 0), pg.FULLSCREEN)\n",
    "BLUE = pg.Color('dodgerblue1')\n",
    "\n",
    "background_img = pg.Surface(screen.get_size())\n",
    "background_img.fill((30, 30, 30))\n",
    "\n",
    "# Ice surface\n",
    "game_surf = pg.Surface(dimensions)\n",
    "ice = pg.image.load(\"ice.png\").convert()\n",
    "ice = pg.transform.scale(ice, dimensions)\n",
    "game_surf.blit(ice, (0,0))\n",
    "\n",
    "# stats surface\n",
    "stats_surf = pg.Surface((400, 750), pg.SRCALPHA)\n",
    "stats_surf.fill((255, 255, 255))\n",
    "\n",
    "stats_font = pg.font.SysFont(\"Arial\", 18, 1, 1)\n",
    "\n",
    "# dots\n",
    "arrow_img = pg.Surface((12, 12), pg.SRCALPHA)\n",
    "pg.draw.circle(arrow_img, BLUE, (6,6), 6)\n",
    "\n",
    "pos = []  # Position of the dots.\n",
    "data = {\"Position\":[]}\n",
    "df = pd.DataFrame(data)\n",
    "\n",
    "done = False\n",
    "while not done:\n",
    "    # Blit the background to clear the screen.\n",
    "    screen.blit(background_img, (0, 0))\n",
    "    background_img.blit(game_surf, (20,40))\n",
    "    background_img.blit(stats_surf, (1000, 40))\n",
    "    clock.tick(30)\n",
    "    for event in pg.event.get():\n",
    "        if event.type == pg.QUIT:\n",
    "            done = True\n",
    "        elif event.type == pg.MOUSEBUTTONDOWN:\n",
    "            pos.append(event.pos)\n",
    "            print(event.pos)\n",
    "            \n",
    "            df = pd.concat([df, pd.DataFrame({\"Position\": [event.pos]})], ignore_index=True)\n",
    "            print(df)\n",
    "        elif event.type == pg.KEYDOWN:\n",
    "            if event.key == pg.K_ESCAPE:\n",
    "                done = True\n",
    "            # Check for backspace\n",
    "            if event.key == pg.K_BACKSPACE:\n",
    "                # get text input from 0 to -1 i.e. end.\n",
    "                user_text = user_text[:-1]\n",
    "            # Unicode standard is used for string formation\n",
    "            else:\n",
    "                user_text += event.unicode\n",
    "\n",
    "    # Blit the arrow.\n",
    "    for j in pos:\n",
    "        i = list(j)\n",
    "        i[0] = i[0] - 20\n",
    "        i[1] = i[1] - 40\n",
    "        position = tuple(i)\n",
    "        game_surf.blit(arrow_img, position)\n",
    "\n",
    "    for row in df.index:\n",
    "        height = (int(row) + 1) * 20\n",
    "        stats_surf.blit(stats_font.render(str(df.Position.iloc[row]), False, (0, 0, 0)), (20, height))\n",
    "\n",
    "    pg.display.update()\n",
    "\n",
    "    pg.display.flip()\n",
    "\n",
    "pg.quit()\n",
    "exit()"
   ]
  },
  {
   "cell_type": "code",
   "execution_count": 6,
   "metadata": {},
   "outputs": [
    {
     "data": {
      "text/html": [
       "<div>\n",
       "<style scoped>\n",
       "    .dataframe tbody tr th:only-of-type {\n",
       "        vertical-align: middle;\n",
       "    }\n",
       "\n",
       "    .dataframe tbody tr th {\n",
       "        vertical-align: top;\n",
       "    }\n",
       "\n",
       "    .dataframe thead th {\n",
       "        text-align: right;\n",
       "    }\n",
       "</style>\n",
       "<table border=\"1\" class=\"dataframe\">\n",
       "  <thead>\n",
       "    <tr style=\"text-align: right;\">\n",
       "      <th></th>\n",
       "      <th>Position</th>\n",
       "    </tr>\n",
       "  </thead>\n",
       "  <tbody>\n",
       "    <tr>\n",
       "      <th>0</th>\n",
       "      <td>0</td>\n",
       "    </tr>\n",
       "    <tr>\n",
       "      <th>1</th>\n",
       "      <td>1</td>\n",
       "    </tr>\n",
       "    <tr>\n",
       "      <th>2</th>\n",
       "      <td>2</td>\n",
       "    </tr>\n",
       "    <tr>\n",
       "      <th>3</th>\n",
       "      <td>3</td>\n",
       "    </tr>\n",
       "  </tbody>\n",
       "</table>\n",
       "</div>"
      ],
      "text/plain": [
       "   Position\n",
       "0         0\n",
       "1         1\n",
       "2         2\n",
       "3         3"
      ]
     },
     "execution_count": 6,
     "metadata": {},
     "output_type": "execute_result"
    }
   ],
   "source": [
    "import pandas as pd\n",
    "data = {\"Position\":[0, 1, 2, 3]}\n",
    "df = pd.DataFrame(data)\n",
    "df"
   ]
  },
  {
   "cell_type": "code",
   "execution_count": 7,
   "metadata": {},
   "outputs": [
    {
     "data": {
      "text/plain": [
       "'(495, 218)'"
      ]
     },
     "execution_count": 7,
     "metadata": {},
     "output_type": "execute_result"
    }
   ],
   "source": [
    "str(df.Position.iloc[0])"
   ]
  }
 ],
 "metadata": {
  "kernelspec": {
   "display_name": "Python 3.10.2 64-bit ('3.10.2')",
   "language": "python",
   "name": "python3"
  },
  "language_info": {
   "codemirror_mode": {
    "name": "ipython",
    "version": 3
   },
   "file_extension": ".py",
   "mimetype": "text/x-python",
   "name": "python",
   "nbconvert_exporter": "python",
   "pygments_lexer": "ipython3",
   "version": "3.10.2"
  },
  "orig_nbformat": 4,
  "vscode": {
   "interpreter": {
    "hash": "20226ff3862742e648f832c11e634d1af856dda8eb3f36668caa1f76e51e88a3"
   }
  }
 },
 "nbformat": 4,
 "nbformat_minor": 2
}
